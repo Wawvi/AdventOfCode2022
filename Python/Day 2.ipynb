{
 "cells": [
  {
   "cell_type": "markdown",
   "metadata": {},
   "source": [
    "# AOC 2022 - Day 2\n",
    "https://adventofcode.com/2022/day/2"
   ]
  },
  {
   "cell_type": "code",
   "execution_count": 14,
   "metadata": {},
   "outputs": [],
   "source": [
    "import numpy as np"
   ]
  },
  {
   "cell_type": "code",
   "execution_count": 18,
   "metadata": {},
   "outputs": [],
   "source": [
    "with open(\"../Input/day 2.txt\") as f :\n",
    "    input = f.read().splitlines()\n"
   ]
  },
  {
   "cell_type": "code",
   "execution_count": 19,
   "metadata": {},
   "outputs": [],
   "source": [
    "input = [i.split(\" \") for i in input]\n",
    "\n",
    "opponent = np.array([i[0] for i in input])\n",
    "player = np.array([i[1] for i in input])"
   ]
  },
  {
   "cell_type": "markdown",
   "metadata": {},
   "source": [
    "# Part 1"
   ]
  },
  {
   "cell_type": "code",
   "execution_count": 90,
   "metadata": {},
   "outputs": [],
   "source": [
    "def game(player, opponent) :\n",
    "    move_dict = {\n",
    "        \"X\" : 1,\n",
    "        \"Y\" : 2,\n",
    "        \"Z\" : 3,\n",
    "        \"A\" : 1,\n",
    "        \"B\" : 2,\n",
    "        \"C\" : 3\n",
    "    }\n",
    "\n",
    "    player = np.fromiter(map(move_dict.get, player), dtype = int)\n",
    "    opponent = np.fromiter(map(move_dict.get, opponent), dtype = int)\n",
    "\n",
    "    result = np.array([0] * len(player))\n",
    "    \n",
    "    result[player < opponent] = 0\n",
    "    result[player == opponent] = 3\n",
    "    result[player > opponent] = 6\n",
    "\n",
    "    result[(player == 1) & (opponent == 3)] = 6\n",
    "    result[(player == 3) & (opponent == 1)] = 0\n",
    "\n",
    "    return {\"player\" : player, \"opponent\" : opponent, \"result\" : result}\n"
   ]
  },
  {
   "cell_type": "markdown",
   "metadata": {},
   "source": [
    "Solution"
   ]
  },
  {
   "cell_type": "code",
   "execution_count": 32,
   "metadata": {},
   "outputs": [
    {
     "data": {
      "text/plain": [
       "13809"
      ]
     },
     "execution_count": 32,
     "metadata": {},
     "output_type": "execute_result"
    }
   ],
   "source": [
    "g = game(player, opponent)\n",
    "sum(g[\"player\"] + g[\"result\"])"
   ]
  },
  {
   "cell_type": "markdown",
   "metadata": {},
   "source": [
    "# Part 2"
   ]
  },
  {
   "cell_type": "code",
   "execution_count": 81,
   "metadata": {},
   "outputs": [],
   "source": [
    "def circular_index(array_object, indexes) :\n",
    "    max_index = len(array_object)\n",
    "    indexes[(indexes >= max_index) | (indexes < 0)] = indexes[(indexes >= max_index) | (indexes < 0)]  % max_index\n",
    "    return indexes\n",
    "\n",
    "def player_move_fn(player_strategy, opponent) :\n",
    "    moves = np.array([\"A\", \"B\", \"C\"])\n",
    "    player_strat_dict = {\"X\" : -1, \"Y\" : 0, \"Z\" : 1}\n",
    "\n",
    "    opponent_ix = np.array(list(map(lambda x : np.where(moves == x), opponent))).flatten()\n",
    "\n",
    "    player_strategy = np.fromiter(map(player_strat_dict.get, player_strategy), dtype = int)\n",
    "    player_move_ix = opponent_ix + player_strategy\n",
    "    player_move_ix = circular_index(moves, player_move_ix)\n",
    "    \n",
    "    return np.array([moves[i] for i in player_move_ix])\n"
   ]
  },
  {
   "cell_type": "markdown",
   "metadata": {},
   "source": [
    "Solution"
   ]
  },
  {
   "cell_type": "code",
   "execution_count": 88,
   "metadata": {},
   "outputs": [],
   "source": [
    "player_move = player_move_fn(player, opponent)\n",
    "g = game(player_move, opponent)\n",
    "sum(g[\"player\"] + g[\"result\"])"
   ]
  }
 ],
 "metadata": {
  "interpreter": {
   "hash": "b89b5cfaba6639976dc87ff2fec6d58faec662063367e2c229c520fe71072417"
  },
  "kernelspec": {
   "display_name": "Python 3.10.0 64-bit",
   "language": "python",
   "name": "python3"
  },
  "language_info": {
   "codemirror_mode": {
    "name": "ipython",
    "version": 3
   },
   "file_extension": ".py",
   "mimetype": "text/x-python",
   "name": "python",
   "nbconvert_exporter": "python",
   "pygments_lexer": "ipython3",
   "version": "3.10.0"
  },
  "orig_nbformat": 4
 },
 "nbformat": 4,
 "nbformat_minor": 2
}
