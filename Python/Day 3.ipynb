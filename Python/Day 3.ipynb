{
 "cells": [
  {
   "cell_type": "markdown",
   "metadata": {},
   "source": [
    "# AOC 2022 - Day 3\n",
    "https://adventofcode.com/2022/day/3"
   ]
  },
  {
   "cell_type": "code",
   "execution_count": null,
   "metadata": {},
   "outputs": [],
   "source": [
    "with open(\"../Input/day 3.txt\") as f :\n",
    "    input = f.read().splitlines()\n"
   ]
  },
  {
   "cell_type": "code",
   "execution_count": 21,
   "metadata": {},
   "outputs": [],
   "source": [
    "compartment1_list = [rucksack[0:int(len(rucksack) / 2)] for rucksack in input]\n",
    "compartment2_list = [rucksack[int(len(rucksack) / 2):len(rucksack)] for rucksack in input]"
   ]
  },
  {
   "cell_type": "markdown",
   "metadata": {},
   "source": [
    "# Part 1"
   ]
  },
  {
   "cell_type": "markdown",
   "metadata": {},
   "source": [
    "Functions"
   ]
  },
  {
   "cell_type": "code",
   "execution_count": 32,
   "metadata": {},
   "outputs": [],
   "source": [
    "def item_duplicate(compartment1, compartment2) :\n",
    "    \"\"\"\"\n",
    "    A function that returns the first item of compartment1 found in compartment2\n",
    "    \"\"\"\n",
    "    compartment2_letters = [*compartment2]\n",
    "    for letter in compartment1 :\n",
    "        if letter in compartment2_letters :\n",
    "            return letter"
   ]
  },
  {
   "cell_type": "code",
   "execution_count": 42,
   "metadata": {},
   "outputs": [],
   "source": [
    "def map_item_duplicate(compartment1_list, compartment2_list) :\n",
    "    \"\"\"\"\n",
    "    A function to iter over a compartement list and find the item_duplicate()\n",
    "    \"\"\"\n",
    "\n",
    "    result = [None] * len(compartment1_list)\n",
    "\n",
    "    for i in range(0, len(compartment1_list)) :\n",
    "        result[i] = item_duplicate(compartment1_list[i], compartment2_list[i])\n",
    "    \n",
    "    return result\n"
   ]
  },
  {
   "cell_type": "code",
   "execution_count": 43,
   "metadata": {},
   "outputs": [],
   "source": [
    "part1 = map_item_duplicate(compartment1_list, compartment2_list) "
   ]
  },
  {
   "cell_type": "markdown",
   "metadata": {},
   "source": [
    "Create a dict that maps a letter to a priority"
   ]
  },
  {
   "cell_type": "code",
   "execution_count": 59,
   "metadata": {},
   "outputs": [],
   "source": [
    "priority_dict = {}\n",
    "\n",
    "for index, letter in enumerate(range(ord(\"a\"), ord(\"z\") + 1)) :\n",
    "    priority_dict[chr(letter)] = index + 1\n",
    "\n",
    "for index, letter in enumerate(range(ord(\"A\"), ord(\"Z\") + 1), start = 26) :\n",
    "    priority_dict[chr(letter)] = index + 1"
   ]
  },
  {
   "cell_type": "code",
   "execution_count": 62,
   "metadata": {},
   "outputs": [
    {
     "data": {
      "text/plain": [
       "8109"
      ]
     },
     "execution_count": 62,
     "metadata": {},
     "output_type": "execute_result"
    }
   ],
   "source": [
    "result = list(map(priority_dict.get, part1))\n",
    "sum(result)"
   ]
  },
  {
   "cell_type": "markdown",
   "metadata": {},
   "source": [
    "# Part 2"
   ]
  },
  {
   "cell_type": "code",
   "execution_count": 88,
   "metadata": {},
   "outputs": [],
   "source": [
    "compartment_size = int(len(input) / 3)\n",
    "compartment1_list = [None] * compartment_size\n",
    "compartment2_list = [None] * compartment_size\n",
    "compartment3_list = [None] * compartment_size"
   ]
  },
  {
   "cell_type": "code",
   "execution_count": 90,
   "metadata": {},
   "outputs": [],
   "source": [
    "for index, compartement in enumerate(input) :\n",
    "    if (index % 3) == 0 :\n",
    "        compartment1_list[int(index / 3)] = compartement\n",
    "    if (index % 3) == 1 :\n",
    "        compartment2_list[int(index / 3)] = compartement\n",
    "    else :\n",
    "        compartment3_list[int(index / 3)] = compartement"
   ]
  },
  {
   "cell_type": "markdown",
   "metadata": {},
   "source": [
    "function"
   ]
  },
  {
   "cell_type": "code",
   "execution_count": 98,
   "metadata": {},
   "outputs": [],
   "source": [
    "def item_duplicate2(compartment1, compartment2, compartment3) :\n",
    "    \"\"\"\"\n",
    "    A function that returns the first item of compartment1 found in compartment2 and compartment3\n",
    "    \"\"\"\n",
    "    compartment2_letters = [*compartment2]\n",
    "    compartment3_letters = [*compartment3]\n",
    "    for letter in compartment1 :\n",
    "        if (letter in compartment2_letters) & (letter in compartment3_letters):\n",
    "            return letter"
   ]
  },
  {
   "cell_type": "code",
   "execution_count": 99,
   "metadata": {},
   "outputs": [],
   "source": [
    "def map_item_duplicate2(compartment1_list, compartment2_list, compartment3_list) :\n",
    "    \"\"\"\"\n",
    "    A function to iter over a compartement list and find the item_duplicate()\n",
    "    \"\"\"\n",
    "\n",
    "    result = [None] * len(compartment1_list)\n",
    "\n",
    "    for i in range(0, len(compartment1_list)) :\n",
    "        result[i] = item_duplicate2(compartment1_list[i], compartment2_list[i], compartment3_list[i])\n",
    "    \n",
    "    return result"
   ]
  },
  {
   "cell_type": "code",
   "execution_count": 100,
   "metadata": {},
   "outputs": [],
   "source": [
    "part2 = map_item_duplicate2(compartment1_list, compartment2_list, compartment3_list) "
   ]
  },
  {
   "cell_type": "code",
   "execution_count": 101,
   "metadata": {},
   "outputs": [
    {
     "data": {
      "text/plain": [
       "2738"
      ]
     },
     "execution_count": 101,
     "metadata": {},
     "output_type": "execute_result"
    }
   ],
   "source": [
    "result = list(map(priority_dict.get, part2))\n",
    "sum(result)"
   ]
  }
 ],
 "metadata": {
  "interpreter": {
   "hash": "b89b5cfaba6639976dc87ff2fec6d58faec662063367e2c229c520fe71072417"
  },
  "kernelspec": {
   "display_name": "Python 3.10.0 64-bit",
   "language": "python",
   "name": "python3"
  },
  "language_info": {
   "codemirror_mode": {
    "name": "ipython",
    "version": 3
   },
   "file_extension": ".py",
   "mimetype": "text/x-python",
   "name": "python",
   "nbconvert_exporter": "python",
   "pygments_lexer": "ipython3",
   "version": "3.10.0"
  },
  "orig_nbformat": 4
 },
 "nbformat": 4,
 "nbformat_minor": 2
}
